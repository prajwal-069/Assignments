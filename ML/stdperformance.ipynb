{
 "cells": [
  {
   "cell_type": "code",
   "execution_count": null,
   "id": "821c4562",
   "metadata": {},
   "outputs": [
    {
     "name": "stdout",
     "output_type": "stream",
     "text": [
      "      Hours Studied  Previous Scores  Extracurricular Activities  Sleep Hours  \\\n",
      "0                 7               99                           1            9   \n",
      "1                 4               82                           0            4   \n",
      "2                 8               51                           1            7   \n",
      "3                 5               52                           1            5   \n",
      "4                 7               75                           0            8   \n",
      "...             ...              ...                         ...          ...   \n",
      "9995              1               49                           1            4   \n",
      "9996              7               64                           1            8   \n",
      "9997              6               83                           1            8   \n",
      "9998              9               97                           1            7   \n",
      "9999              7               74                           0            8   \n",
      "\n",
      "      Sample Question Papers Practiced  Performance Index  \n",
      "0                                    1                 91  \n",
      "1                                    2                 65  \n",
      "2                                    2                 45  \n",
      "3                                    2                 36  \n",
      "4                                    5                 66  \n",
      "...                                ...                ...  \n",
      "9995                                 2                 23  \n",
      "9996                                 5                 58  \n",
      "9997                                 5                 74  \n",
      "9998                                 0                 95  \n",
      "9999                                 1                 64  \n",
      "\n",
      "[10000 rows x 6 columns]\n"
     ]
    }
   ],
   "source": [
    "import pandas as pd\n",
    "import numpy as np\n",
    "df = pd.read_csv(r\"C:\\Users\\X\\Desktop\\X\\2023\\ML\\studentperformance.csv\")\n",
    "print(df)"
   ]
  },
  {
   "cell_type": "code",
   "execution_count": 2,
   "id": "62ee5e57",
   "metadata": {},
   "outputs": [
    {
     "data": {
      "text/plain": [
       "(10000, 6)"
      ]
     },
     "execution_count": 2,
     "metadata": {},
     "output_type": "execute_result"
    }
   ],
   "source": [
    "df.describe()\n",
    "df.shape"
   ]
  },
  {
   "cell_type": "code",
   "execution_count": 3,
   "id": "81150781",
   "metadata": {},
   "outputs": [
    {
     "name": "stdout",
     "output_type": "stream",
     "text": [
      "X_min (min values for each feature): [ 1 40  0  4  0]\n",
      "X_max (max values for each feature): [ 9 99  1  9  9]\n",
      "y_min (min Performance Index): 10\n",
      "y_max (max Performance Index): 100\n",
      "Epoch 0, MSE: 0.149035\n",
      "Epoch 100, MSE: 0.015052\n",
      "Epoch 200, MSE: 0.011551\n",
      "Epoch 300, MSE: 0.009673\n",
      "Epoch 400, MSE: 0.008164\n",
      "Epoch 500, MSE: 0.006932\n",
      "Epoch 600, MSE: 0.005918\n",
      "Epoch 700, MSE: 0.005077\n",
      "Epoch 800, MSE: 0.004376\n",
      "Epoch 900, MSE: 0.003788\n",
      "Epoch 1000, MSE: 0.003293\n",
      "Epoch 1100, MSE: 0.002874\n",
      "Epoch 1200, MSE: 0.002519\n",
      "Epoch 1300, MSE: 0.002217\n",
      "Epoch 1400, MSE: 0.001960\n",
      "Epoch 1500, MSE: 0.001740\n",
      "Epoch 1600, MSE: 0.001551\n",
      "Epoch 1700, MSE: 0.001389\n",
      "Epoch 1800, MSE: 0.001249\n",
      "Epoch 1900, MSE: 0.001128\n",
      "Early stopping at epoch 1981\n",
      "Final theta (weights + bias): [ 0.11534573  0.21262401  0.54261867 -0.00097958  0.01696971  0.01257947]\n",
      "Train MSE: 16.8658, R2: 0.9543\n"
     ]
    }
   ],
   "source": [
    "import matplotlib.pyplot as plt\n",
    "from sklearn.metrics import mean_squared_error, r2_score\n",
    "from sklearn.model_selection import train_test_split\n",
    "X = df.iloc[:, :-1].values\n",
    "y = df.iloc[:, -1].values\n",
    "\n",
    "def normalize_features(X):\n",
    "    min_vals = X.min(axis=0)\n",
    "    max_vals = X.max(axis=0)\n",
    "    norm_X = (X - min_vals) / (max_vals - min_vals)\n",
    "    return norm_X, min_vals, max_vals\n",
    "\n",
    "def normalize_target(y):\n",
    "    y_min = np.min(y)\n",
    "    y_max = np.max(y)\n",
    "    norm_y = (y - y_min) / (y_max - y_min)\n",
    "    return norm_y, y_min, y_max\n",
    "\n",
    "X_norm, X_min, X_max = normalize_features(X)\n",
    "y_norm, y_min, y_max = normalize_target(y)\n",
    "X_b = np.c_[np.ones((X_norm.shape[0], 1)), X_norm]\n",
    "print(\"X_min (min values for each feature):\", X_min)\n",
    "print(\"X_max (max values for each feature):\", X_max)\n",
    "print(\"y_min (min Performance Index):\", y_min)\n",
    "print(\"y_max (max Performance Index):\", y_max)\n",
    "\n",
    "class MultiLinearRegressionGD:\n",
    "    def __init__(self, learning_rate=0.01, max_epochs=10000, tolerance=1e-6):\n",
    "        self.learning_rate = learning_rate\n",
    "        self.max_epochs = max_epochs\n",
    "        self.tolerance = tolerance\n",
    "    \n",
    "    def fit(self, X, y):\n",
    "        m, n = X.shape\n",
    "        self.theta = np.zeros(n)\n",
    "        prev_mse = float('inf')\n",
    "        \n",
    "        for epoch in range(self.max_epochs):\n",
    "            y_pred = X.dot(self.theta)\n",
    "            error = y_pred - y\n",
    "            gradient = (1/m) * X.T.dot(error)\n",
    "            self.theta -= self.learning_rate * gradient\n",
    "            \n",
    "            mse = (1/(2*m)) * np.sum(error**2)\n",
    "            \n",
    "            if epoch % 100 == 0:\n",
    "                print(f\"Epoch {epoch}, MSE: {mse:.6f}\")\n",
    "            \n",
    "            if abs(prev_mse - mse) < self.tolerance:\n",
    "                print(f\"Early stopping at epoch {epoch}\")\n",
    "                break\n",
    "            \n",
    "            prev_mse = mse\n",
    "\n",
    "    def predict(self, X):\n",
    "        return X.dot(self.theta)\n",
    "\n",
    "model = MultiLinearRegressionGD()\n",
    "model.fit(X_b, y_norm)\n",
    "y_pred_norm = model.predict(X_b)\n",
    "def denormalize(y_norm, y_min, y_max):\n",
    "    return y_norm * (y_max - y_min) + y_min\n",
    "y_pred = denormalize(y_pred_norm, y_min, y_max)\n",
    "\n",
    "mse_train = mean_squared_error(y, y_pred)\n",
    "r2_train = r2_score(y, y_pred)\n",
    "\n",
    "print(\"Final theta (weights + bias):\", model.theta)\n",
    "print(f\"Train MSE: {mse_train:.4f}, R2: {r2_train:.4f}\")"
   ]
  },
  {
   "cell_type": "code",
   "execution_count": 4,
   "id": "cbc0d4b2",
   "metadata": {},
   "outputs": [
    {
     "name": "stdout",
     "output_type": "stream",
     "text": [
      "predicted performance index (without normalization): 45.38\n"
     ]
    }
   ],
   "source": [
    "import numpy as np\n",
    "theta = np.array([0.11534573, 0.21262401, 0.54261867, -0.00097958, 0.01696971, 0.01257947])\n",
    "x = np.array([1, 8, 80, 1, 7, 3])\n",
    "y_pred = np.dot(theta, x)\n",
    "print(f\"predicted performance index (without normalization): {y_pred:.2f}\")"
   ]
  },
  {
   "cell_type": "code",
   "execution_count": 5,
   "id": "d67c02e1",
   "metadata": {},
   "outputs": [
    {
     "name": "stdout",
     "output_type": "stream",
     "text": [
      "predicted performance index (with normalization): 71.44\n"
     ]
    }
   ],
   "source": [
    "import numpy as np\n",
    "\n",
    "theta = np.array([0.11534573, 0.21262401, 0.54261867, -0.00097958, 0.01696971, 0.01257947])\n",
    "x = np.array([1, 8, 80, 1, 7, 3])\n",
    "\n",
    "X_min = np.array([1, 40, 0, 4, 0])\n",
    "X_max = np.array([9, 99, 1, 9, 9])\n",
    "y_min = 10\n",
    "y_max = 100\n",
    "\n",
    "x_features = x[1:]\n",
    "x_norm = (x_features - X_min) / (X_max - X_min)\n",
    "\n",
    "x_norm_b = np.insert(x_norm, 0, 1)\n",
    "y_pred_norm = np.dot(theta, x_norm_b)\n",
    "\n",
    "y_pred = y_pred_norm * (y_max - y_min) + y_min\n",
    "print(f\"predicted performance index (with normalization): {y_pred:.2f}\")"
   ]
  }
 ],
 "metadata": {
  "kernelspec": {
   "display_name": "sike",
   "language": "python",
   "name": "python3"
  },
  "language_info": {
   "codemirror_mode": {
    "name": "ipython",
    "version": 3
   },
   "file_extension": ".py",
   "mimetype": "text/x-python",
   "name": "python",
   "nbconvert_exporter": "python",
   "pygments_lexer": "ipython3",
   "version": "3.12.3"
  }
 },
 "nbformat": 4,
 "nbformat_minor": 5
}
