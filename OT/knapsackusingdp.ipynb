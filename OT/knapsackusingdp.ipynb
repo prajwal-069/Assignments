{
 "cells": [
  {
   "cell_type": "code",
   "execution_count": 3,
   "id": "ac69cade",
   "metadata": {},
   "outputs": [
    {
     "name": "stdout",
     "output_type": "stream",
     "text": [
      "accessing value of the 1st item(i-1): 2\n",
      "accessing value of the 1st item(i-1): 3\n",
      "maximum profit without exceeding knapsack capaity is 6\n",
      "Item 1 selected with weight given 3 and value of 2\n",
      "Item 4 selected with weight given 5 and value of 4\n"
     ]
    }
   ],
   "source": [
    "def knapsack(values, weights, capacity):\n",
    "    n = len(values)\n",
    "\n",
    "    dp = [[0 for w in range(0, capacity + 1)] for i in range(0, n + 1)]\n",
    "\n",
    "    for i in range(1, n+1):\n",
    "\n",
    "        for w in range(1, capacity + 1):\n",
    "            if weights[i-1] <= w:\n",
    "                dp[i][w] = max(dp[i-1][w], values[i-1] + dp[i-1][w - weights[i-1]])\n",
    "            else:\n",
    "                dp[i][w] = dp[i-1][w]\n",
    "    \n",
    "    selected_items = []\n",
    "    w = capacity\n",
    "    \n",
    "    for i in range(n, 0, -1):\n",
    "        if dp[i][w] != dp[i-1][w]:\n",
    "            selected_items.append(i-1)\n",
    "            w -= weights[i-1]\n",
    "\n",
    "    selected_items.reverse()\n",
    "    return dp[n][capacity], selected_items\n",
    "\n",
    "values = [2, 3, 1, 4]\n",
    "print(\"accessing value of the 1st item(i-1):\",values[0])\n",
    "weights = [3, 4, 6, 5]\n",
    "print(\"accessing value of the 1st item(i-1):\",weights[0])\n",
    "capacity = 8\n",
    "\n",
    "profit, selected = knapsack(values, weights, capacity)\n",
    "\n",
    "print(\"maximum profit without exceeding knapsack capaity is\", profit)\n",
    "for i in selected:\n",
    "    print(f\"Item {i+1} selected with weight given {weights[i]} and value of {values[i]}\")"
   ]
  }
 ],
 "metadata": {
  "kernelspec": {
   "display_name": "sike",
   "language": "python",
   "name": "python3"
  },
  "language_info": {
   "codemirror_mode": {
    "name": "ipython",
    "version": 3
   },
   "file_extension": ".py",
   "mimetype": "text/x-python",
   "name": "python",
   "nbconvert_exporter": "python",
   "pygments_lexer": "ipython3",
   "version": "3.12.3"
  }
 },
 "nbformat": 4,
 "nbformat_minor": 5
}
